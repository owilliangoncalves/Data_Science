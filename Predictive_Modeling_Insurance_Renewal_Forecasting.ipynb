{
  "cells": [
    {
      "cell_type": "markdown",
      "source": [
        "# **Predictive Modeling – Insurance Renewal Forecasting**"
      ],
      "metadata": {
        "id": "Wc4d5xapK8jn"
      }
    },
    {
      "cell_type": "markdown",
      "source": [
        "This project focuses on building predictive models to identify whether a client is likely to renew their insurance policy using anonymous customer data. The goal's to support decision-making through model comparison and selection.\n",
        "\n",
        "**Key Objectives**\n",
        "\n",
        "* Predict customer behavior regarding insurance policy renewal\n",
        "* Compare model performance to select the best algorithm for deployment\n",
        "* Apply hyperparameter tuning for improved accuracy and reliability\n",
        "\n",
        "**Approach & Techniques**\n",
        "\n",
        "* Data preprocessing and standardization using `StandardScaler`\n",
        "* Model development with:\n",
        "\n",
        "  * Logistic Regression (with and without hyperparameter tuning using `GridSearchCV`)\n",
        "  * Naive Bayes (`GaussianNB`)\n",
        "  * XGBoost Classifier (`XGBClassifier`)\n",
        "  * Random Forest Classifier\n",
        "* Evaluation using classification metrics:\n",
        "\n",
        "  * Accuracy\n",
        "  * Precision\n",
        "  * Recall\n",
        "  * ROC-AUC Score\n",
        "* Visualization of model performance and ROC curves with `Matplotlib` and `Seaborn`\n",
        "* Model persistence using `Pickle` for future inference\n",
        "\n",
        "**Tools & Libraries**\n",
        "\n",
        "* Python\n",
        "* Pandas\n",
        "* NumPy\n",
        "* Scikit-learn\n",
        "* XGBoost\n",
        "* Seaborn & Matplotlib\n"
      ],
      "metadata": {
        "id": "vPayazEBK-8d"
      }
    },
    {
      "cell_type": "markdown",
      "metadata": {
        "id": "vr2SzFpr8RVU"
      },
      "source": [
        "### Install and load"
      ]
    },
    {
      "cell_type": "code",
      "execution_count": 2,
      "metadata": {
        "colab": {
          "base_uri": "https://localhost:8080/"
        },
        "id": "HWvow1s18RVW",
        "outputId": "5a2a91f7-866b-4932-8a4b-f64fd95080f7"
      },
      "outputs": [
        {
          "output_type": "stream",
          "name": "stdout",
          "text": [
            "Collecting xgboost\n",
            "  Downloading xgboost-3.0.2-py3-none-manylinux_2_28_x86_64.whl.metadata (2.1 kB)\n",
            "Requirement already satisfied: numpy in /usr/local/lib/python3.11/dist-packages (from xgboost) (2.0.2)\n",
            "Collecting nvidia-nccl-cu12 (from xgboost)\n",
            "  Downloading nvidia_nccl_cu12-2.27.6-py3-none-manylinux2014_x86_64.manylinux_2_17_x86_64.whl.metadata (2.0 kB)\n",
            "Requirement already satisfied: scipy in /usr/local/lib/python3.11/dist-packages (from xgboost) (1.16.0)\n",
            "Downloading xgboost-3.0.2-py3-none-manylinux_2_28_x86_64.whl (253.9 MB)\n",
            "\u001b[2K   \u001b[90m━━━━━━━━━━━━━━━━━━━━━━━━━━━━━━━━━━━━━━━━\u001b[0m \u001b[32m253.9/253.9 MB\u001b[0m \u001b[31m4.3 MB/s\u001b[0m eta \u001b[36m0:00:00\u001b[0m\n",
            "\u001b[?25hDownloading nvidia_nccl_cu12-2.27.6-py3-none-manylinux2014_x86_64.manylinux_2_17_x86_64.whl (322.5 MB)\n",
            "\u001b[2K   \u001b[90m━━━━━━━━━━━━━━━━━━━━━━━━━━━━━━━━━━━━━━━━\u001b[0m \u001b[32m322.5/322.5 MB\u001b[0m \u001b[31m3.3 MB/s\u001b[0m eta \u001b[36m0:00:00\u001b[0m\n",
            "\u001b[?25hInstalling collected packages: nvidia-nccl-cu12, xgboost\n",
            "Successfully installed nvidia-nccl-cu12-2.27.6 xgboost-3.0.2\n"
          ]
        }
      ],
      "source": [
        "# Imports\n",
        "!pip install xgboost\n",
        "import pickle\n",
        "import pandas as pd\n",
        "import numpy as np\n",
        "import seaborn as sns\n",
        "import matplotlib.pyplot as plt\n",
        "import xgboost as xgb\n",
        "import sklearn\n",
        "from sklearn.model_selection import GridSearchCV\n",
        "from sklearn.preprocessing import StandardScaler\n",
        "from sklearn.linear_model import LogisticRegression\n",
        "from sklearn.naive_bayes import GaussianNB\n",
        "from xgboost import XGBClassifier\n",
        "from sklearn.ensemble import RandomForestClassifier\n",
        "from sklearn.metrics import roc_auc_score, accuracy_score, precision_score, recall_score, roc_curve"
      ]
    },
    {
      "cell_type": "markdown",
      "metadata": {
        "id": "lyRQnbmi8RVY"
      },
      "source": [
        "## Loading Preprocessed Data"
      ]
    },
    {
      "cell_type": "code",
      "execution_count": 3,
      "metadata": {
        "id": "JXnqtxod8RVY"
      },
      "outputs": [],
      "source": [
        "\n",
        "df_train = pd.read_csv('/content/dados_treino.csv')\n",
        "\n",
        "\n",
        "df_train_final = pd.read_csv('/content/dados_treino_final.csv')\n",
        "\n",
        "\n",
        "df_valid = pd.read_csv('/content/dados_valid.csv')\n",
        "\n",
        "\n",
        "df_test = pd.read_csv('/content/dados_teste.csv')\n",
        "\n",
        "\n",
        "with open('/content/colunas_entrada.sav', 'rb') as file:\n",
        "    colunas_entrada = pickle.load(file)"
      ]
    },
    {
      "cell_type": "markdown",
      "metadata": {
        "id": "gq9HYQCH8RVZ"
      },
      "source": [
        "## Preparando as Matrizes"
      ]
    },
    {
      "cell_type": "code",
      "execution_count": 4,
      "metadata": {
        "id": "bvsGxYoB8RVZ"
      },
      "outputs": [],
      "source": [
        "# Matrix X\n",
        "X_train = df_train_final[colunas_entrada].values\n",
        "X_valid = df_valid[colunas_entrada].values\n",
        "X_teste = df_test[colunas_entrada].values\n",
        "\n",
        "# Matrix Y\n",
        "y_train = df_train_final['LABEL_TARGET'].values\n",
        "y_valid = df_valid['LABEL_TARGET'].values\n",
        "y_teste = df_test['LABEL_TARGET'].values"
      ]
    },
    {
      "cell_type": "code",
      "execution_count": 5,
      "metadata": {
        "colab": {
          "base_uri": "https://localhost:8080/"
        },
        "id": "aodTHTsM8RVZ",
        "outputId": "43e83555-3fba-480e-e10a-b5b296b01257"
      },
      "outputs": [
        {
          "output_type": "stream",
          "name": "stdout",
          "text": [
            "Shape of train: (3238, 178) (3238,)\n",
            "Shape of validalition: (1725, 178) (1725,)\n",
            "Shape of test (1725, 178) (1725,)\n"
          ]
        }
      ],
      "source": [
        "# Print\n",
        "print('Shape of train:', X_train.shape, y_train.shape)\n",
        "print('Shape of validalition:', X_valid.shape, y_valid.shape)\n",
        "print('Shape of test', X_teste.shape, y_teste.shape)"
      ]
    },
    {
      "cell_type": "markdown",
      "metadata": {
        "id": "tMB-qzmC8RVa"
      },
      "source": [
        "## Data Scaler"
      ]
    },
    {
      "cell_type": "code",
      "execution_count": 6,
      "metadata": {
        "id": "uqo5DnbP8RVa"
      },
      "outputs": [],
      "source": [
        "# Scaler\n",
        "scaler = StandardScaler()\n",
        "\n",
        "# Fit Train\n",
        "scaler.fit(X_train)\n",
        "\n",
        "# Save scaler\n",
        "scalerfile = '/content/scaler.sav'\n",
        "pickle.dump(scaler, open(scalerfile, 'wb'))\n",
        "\n",
        "# Load Scaler\n",
        "scaler = pickle.load(open(scalerfile, 'rb'))\n",
        "\n",
        "# Apply scaler\n",
        "X_train_tf = scaler.transform(X_train)\n",
        "X_valid_tf = scaler.transform(X_valid)"
      ]
    },
    {
      "cell_type": "markdown",
      "metadata": {
        "id": "zwyCnGvb8RVb"
      },
      "source": [
        "## Predictive Modeling"
      ]
    },
    {
      "cell_type": "markdown",
      "metadata": {
        "id": "3TyNdzaG8RVb"
      },
      "source": [
        "### Auxiliary Functions"
      ]
    },
    {
      "cell_type": "code",
      "execution_count": 7,
      "metadata": {
        "id": "6g-Lp5We8RVb"
      },
      "outputs": [],
      "source": [
        "# Function to calculate specificity\n",
        "def calculate_specificity(y_actual, y_pred, thresh):\n",
        "    return sum((y_pred < thresh) & (y_actual == 0)) / sum(y_actual == 0)"
      ]
    },
    {
      "cell_type": "markdown",
      "metadata": {
        "id": "vl5NxEKw8RVb"
      },
      "source": [
        "**Specificity** is a metric used to evaluate the performance of a classification model, especially in binary classification problems. It measures the proportion of true negatives (TN) relative to the total number of true negatives, that is, the model's ability to correctly identify negative instances.\n",
        "\n",
        "**y_pred < thresh**: This is a condition that checks whether the model's prediction (y_pred) is less than a certain threshold (thresh). If the model is binary classification, this threshold is usually 0.5, but it can be adjusted according to the specific needs of the problem. This condition returns a Boolean vector, where each element is True if the prediction is less than the threshold (indicating a negative class prediction) and False otherwise.\n",
        "\n",
        "**y_actual == 0**: This is a condition that checks which elements of the actual label vector (y_actual) are equal to 0, meaning they belong to the negative class. This also returns a Boolean vector.\n",
        "\n",
        "**(y_pred < thresh) & (y_actual == 0)**: This is the logical \"and\" operator applied between the two previous Boolean vectors. It returns a new Boolean vector, where each element is True only if both conditions are true for that element—that is, if the prediction is negative and the actual label is also negative. This represents the true negatives (TN).\n",
        "\n",
        "**sum((y_pred < thresh) & (y_actual == 0))**: This is the sum of the True values in the resulting Boolean vector, which is equivalent to the number of true negatives (TN).\n",
        "\n",
        "**sum(y_actual == 0)**: This is the sum of the True values in the Boolean vector representing the actual negative labels, which is equivalent to the total number of actual negative instances (TN + FP).\n",
        "\n",
        "**sum((y_pred < thresh) & (y_actual == 0)) / sum(y_actual == 0)**: This is the ratio of the number of true negatives (TN) to the total number of true negative instances (TN + FP), which is the definition of specificity."
      ]
    },
    {
      "cell_type": "code",
      "execution_count": 8,
      "metadata": {
        "id": "LFR8hQ3M8RVc"
      },
      "outputs": [],
      "source": [
        "# Metrics\n",
        "def print_report(y_actual, y_pred, thresh):\n",
        "\n",
        "    auc = roc_auc_score(y_actual, y_pred)\n",
        "    accuracy = accuracy_score(y_actual, (y_pred > thresh))\n",
        "    recall = recall_score(y_actual, (y_pred > thresh))\n",
        "    precision = precision_score(y_actual, (y_pred > thresh))\n",
        "    specificity = calculate_specificity(y_actual, y_pred, thresh)\n",
        "\n",
        "    print('AUC:%.3f'%auc)\n",
        "    print('Accuracy:%.3f'%accuracy)\n",
        "    print('Recall:%.3f'%recall)\n",
        "    print('Precision:%.3f'%precision)\n",
        "    print('Specificity:%.3f'%specificity)\n",
        "    print(' ')\n",
        "\n",
        "    return auc, accuracy, recall, precision, specificity"
      ]
    },
    {
      "cell_type": "code",
      "execution_count": 9,
      "metadata": {
        "id": "SV30tYAT8RVc"
      },
      "outputs": [],
      "source": [
        "thresh = 0.5"
      ]
    },
    {
      "cell_type": "markdown",
      "metadata": {
        "id": "Oi9jDGgX8RVc"
      },
      "source": [
        "### Logistic Regression (Without Hyperparameter Optimization)\n",
        "\n",
        "\n",
        "https://scikit-learn.org/stable/modules/generated/sklearn.linear_model.LogisticRegression.html"
      ]
    },
    {
      "cell_type": "code",
      "execution_count": 10,
      "metadata": {
        "colab": {
          "base_uri": "https://localhost:8080/"
        },
        "id": "qnS8mSQC8RVc",
        "outputId": "b5835115-50cf-4a25-eb54-faa682157c43"
      },
      "outputs": [
        {
          "output_type": "stream",
          "name": "stdout",
          "text": [
            "Model Logistic Regression (Without Hyperparameter Optimization)\n",
            "\n",
            "Train:\n",
            "\n",
            "AUC:0.623\n",
            "Accuracy:0.644\n",
            "Recall:0.532\n",
            "Precision:0.685\n",
            "Specificity:0.755\n",
            " \n",
            "Valid:\n",
            "\n",
            "AUC:0.508\n",
            "Accuracy:0.668\n",
            "Recall:0.434\n",
            "Precision:0.282\n",
            "Specificity:0.726\n",
            " \n"
          ]
        },
        {
          "output_type": "stream",
          "name": "stderr",
          "text": [
            "/usr/local/lib/python3.11/dist-packages/sklearn/linear_model/_logistic.py:465: ConvergenceWarning: lbfgs failed to converge (status=1):\n",
            "STOP: TOTAL NO. OF ITERATIONS REACHED LIMIT.\n",
            "\n",
            "Increase the number of iterations (max_iter) or scale the data as shown in:\n",
            "    https://scikit-learn.org/stable/modules/preprocessing.html\n",
            "Please also refer to the documentation for alternative solver options:\n",
            "    https://scikit-learn.org/stable/modules/linear_model.html#logistic-regression\n",
            "  n_iter_i = _check_optimize_result(\n"
          ]
        }
      ],
      "source": [
        "# Logistic Regression Without Hyperparameter Optimization\n",
        "\n",
        "# Classifier\n",
        "lr1 = LogisticRegression()\n",
        "\n",
        "# Train Model\n",
        "model_v1 = lr1.fit(X_train_tf, y_train)\n",
        "\n",
        "# Forecast\n",
        "y_train_preds = model_v1.predict_proba(X_train_tf)[:,1]\n",
        "y_valid_preds = model_v1.predict_proba(X_valid_tf)[:,1]\n",
        "\n",
        "print('Model Logistic Regression (Without Hyperparameter Optimization)\\n')\n",
        "\n",
        "print('Train:\\n')\n",
        "lr1_train_auc, lr1_train_accuracy, lr1_train_recall, lr1_train_precision, lr1_train_specificity = print_report(y_train,\n",
        "                                                                                                                   y_train_preds,\n",
        "                                                                                                                   thresh)\n",
        "\n",
        "print('Valid:\\n')\n",
        "lr1_valid_auc, lr1_valid_accuracy, lr1_valid_recall, lr1_valid_precision, lr1_valid_specificity = print_report(y_valid,\n",
        "                                                                                                                   y_valid_preds,\n",
        "                                                                                                                   thresh)\n"
      ]
    },
    {
      "cell_type": "markdown",
      "metadata": {
        "id": "8L0_ETe08RVc"
      },
      "source": [
        "### Logistic Regression (With Hyperparameter Optimization)"
      ]
    },
    {
      "cell_type": "code",
      "execution_count": 11,
      "metadata": {
        "colab": {
          "base_uri": "https://localhost:8080/"
        },
        "id": "5PbQ1OGa8RVd",
        "outputId": "76f4d486-527b-4ee7-b99c-7d80e077ce38"
      },
      "outputs": [
        {
          "output_type": "stream",
          "name": "stdout",
          "text": [
            "Model Logistic Regression (With Hyperparameter Optimization)\n",
            "\n",
            "Train:\n",
            "\n",
            "AUC:0.625\n",
            "Accuracy:0.644\n",
            "Recall:0.531\n",
            "Precision:0.687\n",
            "Specificity:0.758\n",
            " \n",
            "Valid:\n",
            "\n",
            "AUC:0.511\n",
            "Accuracy:0.670\n",
            "Recall:0.429\n",
            "Precision:0.282\n",
            "Specificity:0.729\n",
            " \n"
          ]
        }
      ],
      "source": [
        "# Logistic Regression With Hyperparameter Optimization\n",
        "\n",
        "# Classifier\n",
        "lr2 = LogisticRegression(random_state = 142, solver = 'liblinear')\n",
        "\n",
        "# Train\n",
        "model_v2 = lr2.fit(X_train_tf, y_train)\n",
        "\n",
        "# Forecast\n",
        "y_train_preds = model_v2.predict_proba(X_train_tf)[:,1]\n",
        "y_valid_preds = model_v2.predict_proba(X_valid_tf)[:,1]\n",
        "\n",
        "print('Model Logistic Regression (With Hyperparameter Optimization)\\n')\n",
        "\n",
        "print('Train:\\n')\n",
        "lr2_train_auc, lr2_train_accuracy, lr2_train_recall, lr2_train_precision, lr2_train_specificity = print_report(y_train,\n",
        "                                                                                                                   y_train_preds,\n",
        "                                                                                                                   thresh)\n",
        "\n",
        "print('Valid:\\n')\n",
        "lr2_valid_auc, lr2_valid_accuracy, lr2_valid_recall, lr2_valid_precision, lr2_valid_specificity = print_report(y_valid,\n",
        "                                                                                                                   y_valid_preds,\n",
        "                                                                                                                   thresh)\n"
      ]
    },
    {
      "cell_type": "markdown",
      "metadata": {
        "id": "Szf8164J8RVd"
      },
      "source": [
        "### Naive Bayes\n",
        "\n",
        "\n",
        "https://scikit-learn.org/stable/modules/naive_bayes.html"
      ]
    },
    {
      "cell_type": "code",
      "execution_count": 12,
      "metadata": {
        "colab": {
          "base_uri": "https://localhost:8080/"
        },
        "id": "veig-_uu8RVd",
        "outputId": "03708291-850e-4d52-941a-fcb606f05367"
      },
      "outputs": [
        {
          "output_type": "stream",
          "name": "stdout",
          "text": [
            "Naive Bayes:\n",
            "\n",
            "Train:\n",
            "\n",
            "AUC:0.984\n",
            "Accuracy:0.935\n",
            "Recall:0.898\n",
            "Precision:0.971\n",
            "Specificity:0.973\n",
            " \n",
            "Valid:\n",
            "\n",
            "AUC:0.986\n",
            "Accuracy:0.960\n",
            "Recall:0.892\n",
            "Precision:0.905\n",
            "Specificity:0.977\n",
            " \n"
          ]
        }
      ],
      "source": [
        "# Naive Bayes Model\n",
        "\n",
        "# Model\n",
        "nb = GaussianNB()\n",
        "\n",
        "# Train\n",
        "model_v3 = nb.fit(X_train_tf, y_train)\n",
        "\n",
        "# Forecast\n",
        "y_train_preds = model_v3.predict_proba(X_train_tf)[:,1]\n",
        "y_valid_preds = model_v3.predict_proba(X_valid_tf)[:,1]\n",
        "\n",
        "print('Naive Bayes:\\n')\n",
        "\n",
        "print('Train:\\n')\n",
        "nb_train_auc, nb_train_accuracy, nb_train_recall, nb_train_precision, nb_train_specificity = print_report(y_train,\n",
        "                                                                                                              y_train_preds,\n",
        "                                                                                                              thresh)\n",
        "\n",
        "print('Valid:\\n')\n",
        "nb_valid_auc, nb_valid_accuracy, nb_valid_recall, nb_valid_precision, nb_valid_specificity = print_report(y_valid,\n",
        "                                                                                                              y_valid_preds,\n",
        "                                                                                                              thresh)\n"
      ]
    },
    {
      "cell_type": "markdown",
      "metadata": {
        "id": "XuRX3SIQ8RVd"
      },
      "source": [
        "### XGBoost (Xtreme Gradient Boosting Classifier)\n",
        "\n",
        "\n",
        "\n",
        "https://xgboost.readthedocs.io/en/stable/index.html"
      ]
    },
    {
      "cell_type": "code",
      "execution_count": 13,
      "metadata": {
        "colab": {
          "base_uri": "https://localhost:8080/"
        },
        "id": "PxFD2rhH8RVd",
        "outputId": "6712fd6a-c795-4488-ef89-61f2fb5f0f18"
      },
      "outputs": [
        {
          "output_type": "stream",
          "name": "stdout",
          "text": [
            "Xtreme Gradient Boosting Classifier:\n",
            "\n",
            "Train:\n",
            "\n",
            "AUC:1.000\n",
            "Accuracy:1.000\n",
            "Recall:1.000\n",
            "Precision:1.000\n",
            "Specificity:1.000\n",
            " \n",
            "Valid:\n",
            "\n",
            "AUC:0.992\n",
            "Accuracy:0.966\n",
            "Recall:0.948\n",
            "Precision:0.890\n",
            "Specificity:0.971\n",
            " \n"
          ]
        }
      ],
      "source": [
        "# Model (Ensemble)\n",
        "\n",
        "# XGB\n",
        "xgbc = XGBClassifier()\n",
        "\n",
        "# Train\n",
        "model_v4 = xgbc.fit(X_train_tf, y_train)\n",
        "\n",
        "# Previsões\n",
        "y_train_preds = model_v4.predict_proba(X_train_tf)[:,1]\n",
        "y_valid_preds = model_v4.predict_proba(X_valid_tf)[:,1]\n",
        "\n",
        "print('Xtreme Gradient Boosting Classifier:\\n')\n",
        "\n",
        "print('Train:\\n')\n",
        "xgbc_train_auc, xgbc_train_accuracy, xgbc_train_recall, xgbc_train_precision, xgbc_train_specificity = print_report(y_train,\n",
        "                                                                                                                        y_train_preds,\n",
        "                                                                                                                        thresh)\n",
        "\n",
        "print('Valid:\\n')\n",
        "xgbc_valid_auc, xgbc_valid_accuracy, xgbc_valid_recall, xgbc_valid_precision, xgbc_valid_specificity = print_report(y_valid,\n",
        "                                                                                                                        y_valid_preds,\n",
        "                                                                                                                        thresh)\n"
      ]
    },
    {
      "cell_type": "markdown",
      "metadata": {
        "id": "8K53g3hq8RVe"
      },
      "source": [
        "## RandomForest"
      ]
    },
    {
      "cell_type": "code",
      "execution_count": 14,
      "metadata": {
        "colab": {
          "base_uri": "https://localhost:8080/"
        },
        "id": "KCihaSVq8RVe",
        "outputId": "f36420c3-fcf6-49d2-9282-3d7961edd150"
      },
      "outputs": [
        {
          "output_type": "stream",
          "name": "stdout",
          "text": [
            "Random Forest Classifier:\n",
            "\n",
            "Train:\n",
            "\n",
            "AUC:1.000\n",
            "Accuracy:1.000\n",
            "Recall:1.000\n",
            "Precision:1.000\n",
            "Specificity:1.000\n",
            " \n",
            "Valid:\n",
            "\n",
            "AUC:0.994\n",
            "Accuracy:0.958\n",
            "Recall:0.974\n",
            "Precision:0.841\n",
            "Specificity:0.952\n",
            " \n"
          ]
        }
      ],
      "source": [
        "# RandomForest\n",
        "rfc = RandomForestClassifier()\n",
        "\n",
        "# Train\n",
        "modelo_v5 = rfc.fit(X_train_tf, y_train)\n",
        "\n",
        "# Forecast\n",
        "y_train_preds = modelo_v5.predict_proba(X_train_tf)[:,1]\n",
        "y_valid_preds = modelo_v5.predict_proba(X_valid_tf)[:,1]\n",
        "\n",
        "print('Random Forest Classifier:\\n')\n",
        "\n",
        "print('Train:\\n')\n",
        "rfc_train_auc, rfc_train_accuracy, rfc_train_recall, rfc_train_precision, rfc_train_specificity = print_report(y_train,\n",
        "                                                                                                                   y_train_preds,\n",
        "                                                                                                                   thresh)\n",
        "\n",
        "print('Valid:\\n')\n",
        "rfc_valid_auc, rfc_valid_accuracy, rfc_valid_recall, rfc_valid_precision, rfc_valid_specificity = print_report(y_valid,\n",
        "                                                                                                                   y_valid_preds,\n",
        "                                                                                                                   thresh)\n"
      ]
    },
    {
      "cell_type": "markdown",
      "metadata": {
        "id": "2IIoHnD18RVe"
      },
      "source": [
        "### Model Selection"
      ]
    },
    {
      "cell_type": "code",
      "execution_count": 15,
      "metadata": {
        "id": "Pe0nnv-F8RVf"
      },
      "outputs": [],
      "source": [
        "# Results\n",
        "df_results = pd.DataFrame({'classifier':['RL1', 'RL1', 'RL2', 'RL2', 'NB', 'NB', 'XGB', 'XGB', 'RFC', 'RFC'],\n",
        "                           'data_set':['treino','valid'] * 5,\n",
        "                           'auc':[lr1_train_auc,\n",
        "                                  lr1_valid_auc,\n",
        "                                  lr2_train_auc,\n",
        "                                  lr2_valid_auc,\n",
        "                                  nb_train_auc,\n",
        "                                  nb_valid_auc,\n",
        "                                  xgbc_train_auc,\n",
        "                                  xgbc_valid_auc,\n",
        "                                  rfc_train_auc,\n",
        "                                  rfc_valid_auc],\n",
        "                           'accuracy':[lr1_train_accuracy,\n",
        "                                       lr1_valid_accuracy,\n",
        "                                       lr2_train_accuracy,\n",
        "                                       lr2_valid_accuracy,\n",
        "                                       nb_train_accuracy,\n",
        "                                       nb_valid_accuracy,\n",
        "                                       xgbc_train_accuracy,\n",
        "                                       xgbc_valid_accuracy,\n",
        "                                       rfc_train_accuracy,\n",
        "                                       rfc_valid_accuracy],\n",
        "                           'recall':[lr1_train_recall,\n",
        "                                     lr1_valid_recall,\n",
        "                                     lr2_train_recall,\n",
        "                                     lr2_valid_recall,\n",
        "                                     nb_train_recall,\n",
        "                                     nb_valid_recall,\n",
        "                                     xgbc_train_recall,\n",
        "                                     xgbc_valid_recall,\n",
        "                                     rfc_train_recall,\n",
        "                                     rfc_valid_recall],\n",
        "                           'precision':[lr1_train_precision,\n",
        "                                        lr1_valid_precision,\n",
        "                                        lr2_train_precision,\n",
        "                                        lr2_valid_precision,\n",
        "                                        nb_train_precision,\n",
        "                                        nb_valid_precision,\n",
        "                                        xgbc_train_precision,\n",
        "                                        xgbc_valid_precision,\n",
        "                                        rfc_train_precision,\n",
        "                                        rfc_valid_precision],\n",
        "                           'specificity':[lr1_train_specificity,\n",
        "                                          lr1_valid_specificity,\n",
        "                                          lr2_train_specificity,\n",
        "                                          lr2_valid_specificity,\n",
        "                                          nb_train_specificity,\n",
        "                                          nb_valid_specificity,\n",
        "                                          xgbc_train_specificity,\n",
        "                                          xgbc_valid_specificity,\n",
        "                                          rfc_train_specificity,\n",
        "                                          rfc_valid_specificity]})"
      ]
    },
    {
      "cell_type": "code",
      "execution_count": 16,
      "metadata": {
        "colab": {
          "base_uri": "https://localhost:8080/",
          "height": 201
        },
        "id": "DvzTfeaa8RVf",
        "outputId": "f1f78792-46e4-4cd9-fe0d-59e1dbdb225c"
      },
      "outputs": [
        {
          "output_type": "execute_result",
          "data": {
            "text/plain": [
              "  classifier data_set       auc  accuracy    recall  precision  specificity\n",
              "9        RFC    valid  0.993527  0.958261  0.973761   0.841310     0.951520\n",
              "7        XGB    valid  0.992178  0.966377  0.947522   0.890411     0.971056\n",
              "5         NB    valid  0.986101  0.960000  0.892128   0.905325     0.976845\n",
              "3        RL2    valid  0.510791  0.669565  0.428571   0.282150     0.729378\n",
              "1        RL1    valid  0.508352  0.667826  0.434402   0.282197     0.725760"
            ],
            "text/html": [
              "\n",
              "  <div id=\"df-4e0a75bb-64e5-4d17-b53a-cbe424d8dc87\" class=\"colab-df-container\">\n",
              "    <div>\n",
              "<style scoped>\n",
              "    .dataframe tbody tr th:only-of-type {\n",
              "        vertical-align: middle;\n",
              "    }\n",
              "\n",
              "    .dataframe tbody tr th {\n",
              "        vertical-align: top;\n",
              "    }\n",
              "\n",
              "    .dataframe thead th {\n",
              "        text-align: right;\n",
              "    }\n",
              "</style>\n",
              "<table border=\"1\" class=\"dataframe\">\n",
              "  <thead>\n",
              "    <tr style=\"text-align: right;\">\n",
              "      <th></th>\n",
              "      <th>classifier</th>\n",
              "      <th>data_set</th>\n",
              "      <th>auc</th>\n",
              "      <th>accuracy</th>\n",
              "      <th>recall</th>\n",
              "      <th>precision</th>\n",
              "      <th>specificity</th>\n",
              "    </tr>\n",
              "  </thead>\n",
              "  <tbody>\n",
              "    <tr>\n",
              "      <th>9</th>\n",
              "      <td>RFC</td>\n",
              "      <td>valid</td>\n",
              "      <td>0.993527</td>\n",
              "      <td>0.958261</td>\n",
              "      <td>0.973761</td>\n",
              "      <td>0.841310</td>\n",
              "      <td>0.951520</td>\n",
              "    </tr>\n",
              "    <tr>\n",
              "      <th>7</th>\n",
              "      <td>XGB</td>\n",
              "      <td>valid</td>\n",
              "      <td>0.992178</td>\n",
              "      <td>0.966377</td>\n",
              "      <td>0.947522</td>\n",
              "      <td>0.890411</td>\n",
              "      <td>0.971056</td>\n",
              "    </tr>\n",
              "    <tr>\n",
              "      <th>5</th>\n",
              "      <td>NB</td>\n",
              "      <td>valid</td>\n",
              "      <td>0.986101</td>\n",
              "      <td>0.960000</td>\n",
              "      <td>0.892128</td>\n",
              "      <td>0.905325</td>\n",
              "      <td>0.976845</td>\n",
              "    </tr>\n",
              "    <tr>\n",
              "      <th>3</th>\n",
              "      <td>RL2</td>\n",
              "      <td>valid</td>\n",
              "      <td>0.510791</td>\n",
              "      <td>0.669565</td>\n",
              "      <td>0.428571</td>\n",
              "      <td>0.282150</td>\n",
              "      <td>0.729378</td>\n",
              "    </tr>\n",
              "    <tr>\n",
              "      <th>1</th>\n",
              "      <td>RL1</td>\n",
              "      <td>valid</td>\n",
              "      <td>0.508352</td>\n",
              "      <td>0.667826</td>\n",
              "      <td>0.434402</td>\n",
              "      <td>0.282197</td>\n",
              "      <td>0.725760</td>\n",
              "    </tr>\n",
              "  </tbody>\n",
              "</table>\n",
              "</div>\n",
              "    <div class=\"colab-df-buttons\">\n",
              "\n",
              "  <div class=\"colab-df-container\">\n",
              "    <button class=\"colab-df-convert\" onclick=\"convertToInteractive('df-4e0a75bb-64e5-4d17-b53a-cbe424d8dc87')\"\n",
              "            title=\"Convert this dataframe to an interactive table.\"\n",
              "            style=\"display:none;\">\n",
              "\n",
              "  <svg xmlns=\"http://www.w3.org/2000/svg\" height=\"24px\" viewBox=\"0 -960 960 960\">\n",
              "    <path d=\"M120-120v-720h720v720H120Zm60-500h600v-160H180v160Zm220 220h160v-160H400v160Zm0 220h160v-160H400v160ZM180-400h160v-160H180v160Zm440 0h160v-160H620v160ZM180-180h160v-160H180v160Zm440 0h160v-160H620v160Z\"/>\n",
              "  </svg>\n",
              "    </button>\n",
              "\n",
              "  <style>\n",
              "    .colab-df-container {\n",
              "      display:flex;\n",
              "      gap: 12px;\n",
              "    }\n",
              "\n",
              "    .colab-df-convert {\n",
              "      background-color: #E8F0FE;\n",
              "      border: none;\n",
              "      border-radius: 50%;\n",
              "      cursor: pointer;\n",
              "      display: none;\n",
              "      fill: #1967D2;\n",
              "      height: 32px;\n",
              "      padding: 0 0 0 0;\n",
              "      width: 32px;\n",
              "    }\n",
              "\n",
              "    .colab-df-convert:hover {\n",
              "      background-color: #E2EBFA;\n",
              "      box-shadow: 0px 1px 2px rgba(60, 64, 67, 0.3), 0px 1px 3px 1px rgba(60, 64, 67, 0.15);\n",
              "      fill: #174EA6;\n",
              "    }\n",
              "\n",
              "    .colab-df-buttons div {\n",
              "      margin-bottom: 4px;\n",
              "    }\n",
              "\n",
              "    [theme=dark] .colab-df-convert {\n",
              "      background-color: #3B4455;\n",
              "      fill: #D2E3FC;\n",
              "    }\n",
              "\n",
              "    [theme=dark] .colab-df-convert:hover {\n",
              "      background-color: #434B5C;\n",
              "      box-shadow: 0px 1px 3px 1px rgba(0, 0, 0, 0.15);\n",
              "      filter: drop-shadow(0px 1px 2px rgba(0, 0, 0, 0.3));\n",
              "      fill: #FFFFFF;\n",
              "    }\n",
              "  </style>\n",
              "\n",
              "    <script>\n",
              "      const buttonEl =\n",
              "        document.querySelector('#df-4e0a75bb-64e5-4d17-b53a-cbe424d8dc87 button.colab-df-convert');\n",
              "      buttonEl.style.display =\n",
              "        google.colab.kernel.accessAllowed ? 'block' : 'none';\n",
              "\n",
              "      async function convertToInteractive(key) {\n",
              "        const element = document.querySelector('#df-4e0a75bb-64e5-4d17-b53a-cbe424d8dc87');\n",
              "        const dataTable =\n",
              "          await google.colab.kernel.invokeFunction('convertToInteractive',\n",
              "                                                    [key], {});\n",
              "        if (!dataTable) return;\n",
              "\n",
              "        const docLinkHtml = 'Like what you see? Visit the ' +\n",
              "          '<a target=\"_blank\" href=https://colab.research.google.com/notebooks/data_table.ipynb>data table notebook</a>'\n",
              "          + ' to learn more about interactive tables.';\n",
              "        element.innerHTML = '';\n",
              "        dataTable['output_type'] = 'display_data';\n",
              "        await google.colab.output.renderOutput(dataTable, element);\n",
              "        const docLink = document.createElement('div');\n",
              "        docLink.innerHTML = docLinkHtml;\n",
              "        element.appendChild(docLink);\n",
              "      }\n",
              "    </script>\n",
              "  </div>\n",
              "\n",
              "\n",
              "    <div id=\"df-8c2597e9-efe3-4fe3-8345-9e912d12aeae\">\n",
              "      <button class=\"colab-df-quickchart\" onclick=\"quickchart('df-8c2597e9-efe3-4fe3-8345-9e912d12aeae')\"\n",
              "                title=\"Suggest charts\"\n",
              "                style=\"display:none;\">\n",
              "\n",
              "<svg xmlns=\"http://www.w3.org/2000/svg\" height=\"24px\"viewBox=\"0 0 24 24\"\n",
              "     width=\"24px\">\n",
              "    <g>\n",
              "        <path d=\"M19 3H5c-1.1 0-2 .9-2 2v14c0 1.1.9 2 2 2h14c1.1 0 2-.9 2-2V5c0-1.1-.9-2-2-2zM9 17H7v-7h2v7zm4 0h-2V7h2v10zm4 0h-2v-4h2v4z\"/>\n",
              "    </g>\n",
              "</svg>\n",
              "      </button>\n",
              "\n",
              "<style>\n",
              "  .colab-df-quickchart {\n",
              "      --bg-color: #E8F0FE;\n",
              "      --fill-color: #1967D2;\n",
              "      --hover-bg-color: #E2EBFA;\n",
              "      --hover-fill-color: #174EA6;\n",
              "      --disabled-fill-color: #AAA;\n",
              "      --disabled-bg-color: #DDD;\n",
              "  }\n",
              "\n",
              "  [theme=dark] .colab-df-quickchart {\n",
              "      --bg-color: #3B4455;\n",
              "      --fill-color: #D2E3FC;\n",
              "      --hover-bg-color: #434B5C;\n",
              "      --hover-fill-color: #FFFFFF;\n",
              "      --disabled-bg-color: #3B4455;\n",
              "      --disabled-fill-color: #666;\n",
              "  }\n",
              "\n",
              "  .colab-df-quickchart {\n",
              "    background-color: var(--bg-color);\n",
              "    border: none;\n",
              "    border-radius: 50%;\n",
              "    cursor: pointer;\n",
              "    display: none;\n",
              "    fill: var(--fill-color);\n",
              "    height: 32px;\n",
              "    padding: 0;\n",
              "    width: 32px;\n",
              "  }\n",
              "\n",
              "  .colab-df-quickchart:hover {\n",
              "    background-color: var(--hover-bg-color);\n",
              "    box-shadow: 0 1px 2px rgba(60, 64, 67, 0.3), 0 1px 3px 1px rgba(60, 64, 67, 0.15);\n",
              "    fill: var(--button-hover-fill-color);\n",
              "  }\n",
              "\n",
              "  .colab-df-quickchart-complete:disabled,\n",
              "  .colab-df-quickchart-complete:disabled:hover {\n",
              "    background-color: var(--disabled-bg-color);\n",
              "    fill: var(--disabled-fill-color);\n",
              "    box-shadow: none;\n",
              "  }\n",
              "\n",
              "  .colab-df-spinner {\n",
              "    border: 2px solid var(--fill-color);\n",
              "    border-color: transparent;\n",
              "    border-bottom-color: var(--fill-color);\n",
              "    animation:\n",
              "      spin 1s steps(1) infinite;\n",
              "  }\n",
              "\n",
              "  @keyframes spin {\n",
              "    0% {\n",
              "      border-color: transparent;\n",
              "      border-bottom-color: var(--fill-color);\n",
              "      border-left-color: var(--fill-color);\n",
              "    }\n",
              "    20% {\n",
              "      border-color: transparent;\n",
              "      border-left-color: var(--fill-color);\n",
              "      border-top-color: var(--fill-color);\n",
              "    }\n",
              "    30% {\n",
              "      border-color: transparent;\n",
              "      border-left-color: var(--fill-color);\n",
              "      border-top-color: var(--fill-color);\n",
              "      border-right-color: var(--fill-color);\n",
              "    }\n",
              "    40% {\n",
              "      border-color: transparent;\n",
              "      border-right-color: var(--fill-color);\n",
              "      border-top-color: var(--fill-color);\n",
              "    }\n",
              "    60% {\n",
              "      border-color: transparent;\n",
              "      border-right-color: var(--fill-color);\n",
              "    }\n",
              "    80% {\n",
              "      border-color: transparent;\n",
              "      border-right-color: var(--fill-color);\n",
              "      border-bottom-color: var(--fill-color);\n",
              "    }\n",
              "    90% {\n",
              "      border-color: transparent;\n",
              "      border-bottom-color: var(--fill-color);\n",
              "    }\n",
              "  }\n",
              "</style>\n",
              "\n",
              "      <script>\n",
              "        async function quickchart(key) {\n",
              "          const quickchartButtonEl =\n",
              "            document.querySelector('#' + key + ' button');\n",
              "          quickchartButtonEl.disabled = true;  // To prevent multiple clicks.\n",
              "          quickchartButtonEl.classList.add('colab-df-spinner');\n",
              "          try {\n",
              "            const charts = await google.colab.kernel.invokeFunction(\n",
              "                'suggestCharts', [key], {});\n",
              "          } catch (error) {\n",
              "            console.error('Error during call to suggestCharts:', error);\n",
              "          }\n",
              "          quickchartButtonEl.classList.remove('colab-df-spinner');\n",
              "          quickchartButtonEl.classList.add('colab-df-quickchart-complete');\n",
              "        }\n",
              "        (() => {\n",
              "          let quickchartButtonEl =\n",
              "            document.querySelector('#df-8c2597e9-efe3-4fe3-8345-9e912d12aeae button');\n",
              "          quickchartButtonEl.style.display =\n",
              "            google.colab.kernel.accessAllowed ? 'block' : 'none';\n",
              "        })();\n",
              "      </script>\n",
              "    </div>\n",
              "\n",
              "    </div>\n",
              "  </div>\n"
            ],
            "application/vnd.google.colaboratory.intrinsic+json": {
              "type": "dataframe",
              "summary": "{\n  \"name\": \"df_results[df_results['data_set'] == 'valid']\",\n  \"rows\": 5,\n  \"fields\": [\n    {\n      \"column\": \"classifier\",\n      \"properties\": {\n        \"dtype\": \"string\",\n        \"num_unique_values\": 5,\n        \"samples\": [\n          \"XGB\",\n          \"RL1\",\n          \"NB\"\n        ],\n        \"semantic_type\": \"\",\n        \"description\": \"\"\n      }\n    },\n    {\n      \"column\": \"data_set\",\n      \"properties\": {\n        \"dtype\": \"category\",\n        \"num_unique_values\": 1,\n        \"samples\": [\n          \"valid\"\n        ],\n        \"semantic_type\": \"\",\n        \"description\": \"\"\n      }\n    },\n    {\n      \"column\": \"auc\",\n      \"properties\": {\n        \"dtype\": \"number\",\n        \"std\": 0.26348755568755444,\n        \"min\": 0.5083518625560624,\n        \"max\": 0.993526726382097,\n        \"num_unique_values\": 5,\n        \"samples\": [\n          0.9921776442642386\n        ],\n        \"semantic_type\": \"\",\n        \"description\": \"\"\n      }\n    },\n    {\n      \"column\": \"accuracy\",\n      \"properties\": {\n        \"dtype\": \"number\",\n        \"std\": 0.16043031820241993,\n        \"min\": 0.6678260869565218,\n        \"max\": 0.9663768115942029,\n        \"num_unique_values\": 5,\n        \"samples\": [\n          0.9663768115942029\n        ],\n        \"semantic_type\": \"\",\n        \"description\": \"\"\n      }\n    },\n    {\n      \"column\": \"recall\",\n      \"properties\": {\n        \"dtype\": \"number\",\n        \"std\": 0.2788900619159824,\n        \"min\": 0.42857142857142855,\n        \"max\": 0.9737609329446064,\n        \"num_unique_values\": 5,\n        \"samples\": [\n          0.9475218658892128\n        ],\n        \"semantic_type\": \"\",\n        \"description\": \"\"\n      }\n    },\n    {\n      \"column\": \"precision\",\n      \"properties\": {\n        \"dtype\": \"number\",\n        \"std\": 0.32776071057262296,\n        \"min\": 0.2821497120921305,\n        \"max\": 0.9053254437869822,\n        \"num_unique_values\": 5,\n        \"samples\": [\n          0.8904109589041096\n        ],\n        \"semantic_type\": \"\",\n        \"description\": \"\"\n      }\n    },\n    {\n      \"column\": \"specificity\",\n      \"properties\": {\n        \"dtype\": \"number\",\n        \"std\": 0.13119588515802874,\n        \"min\": 0.7257597684515196,\n        \"max\": 0.9768451519536903,\n        \"num_unique_values\": 5,\n        \"samples\": [\n          0.9710564399421129\n        ],\n        \"semantic_type\": \"\",\n        \"description\": \"\"\n      }\n    }\n  ]\n}"
            }
          },
          "metadata": {},
          "execution_count": 16
        }
      ],
      "source": [
        "# Resultados em validação com ordenação pelo AUC\n",
        "df_results[df_results['data_set'] == 'valid'].sort_values(by = 'auc', ascending = False)"
      ]
    },
    {
      "cell_type": "code",
      "execution_count": 17,
      "metadata": {
        "colab": {
          "base_uri": "https://localhost:8080/",
          "height": 409
        },
        "id": "y-RvzLtr8RVg",
        "outputId": "23d6a791-42e8-4091-e4c6-c07dcb6e059e"
      },
      "outputs": [
        {
          "output_type": "execute_result",
          "data": {
            "text/plain": [
              "<matplotlib.legend.Legend at 0x78d2bb7c8790>"
            ]
          },
          "metadata": {},
          "execution_count": 17
        },
        {
          "output_type": "display_data",
          "data": {
            "text/plain": [
              "<Figure size 1600x800 with 1 Axes>"
            ],
            "image/png": "[encoded data removed]"
          },
          "metadata": {}
        }
      ],
      "source": [
        "# Construção do Plot\n",
        "sns.set_style(\"whitegrid\")\n",
        "plt.figure(figsize = (16, 8))\n",
        "\n",
        "# Gráfico de barras\n",
        "ax = sns.barplot(x = 'classifier', y = 'auc', hue = 'data_set', data = df_results)\n",
        "ax.set_xlabel('classifier_rf', fontsize = 15)\n",
        "ax.set_ylabel('AUC', fontsize = 15)\n",
        "ax.tick_params(labelsize = 15)\n",
        "\n",
        "# Legenda\n",
        "plt.legend(bbox_to_anchor = (1.05, 1), loc = 2, borderaxespad = 0., fontsize = 15)"
      ]
    },
    {
      "cell_type": "markdown",
      "metadata": {
        "id": "8GxC5dYL8RVg"
      },
      "source": [
        "## Hyperparameters and Cross-Validation\n",
        "\n",
        "https://scikit-learn.org/stable/modules/generated/sklearn.ensemble.RandomForestClassifier.html"
      ]
    },
    {
      "cell_type": "code",
      "execution_count": 18,
      "metadata": {
        "colab": {
          "base_uri": "https://localhost:8080/"
        },
        "id": "EzUspQvq8RVh",
        "outputId": "0602234b-847a-4cbc-9284-cd85606c8586"
      },
      "outputs": [
        {
          "output_type": "stream",
          "name": "stdout",
          "text": [
            "Fitting 5 folds for each of 108 candidates, totalling 540 fits\n",
            "Best Hyperparam: {'max_depth': None, 'min_samples_leaf': 1, 'min_samples_split': 5, 'n_estimators': 300}\n",
            "Random Forest Classifier with Optimization Hyperparameters and Cross-Validation:\n",
            "\n",
            "Train:\n",
            "\n",
            "AUC:1.000\n",
            "Accuracy:1.000\n",
            "Recall:0.999\n",
            "Precision:1.000\n",
            "Specificity:1.000\n",
            " \n",
            "Valid:\n",
            "\n",
            "AUC:0.994\n",
            "Accuracy:0.958\n",
            "Recall:0.983\n",
            "Precision:0.836\n",
            "Specificity:0.952\n",
            " \n",
            "CPU times: user 13 s, sys: 679 ms, total: 13.7 s\n",
            "Wall time: 9min 42s\n"
          ]
        }
      ],
      "source": [
        "%%time\n",
        "\n",
        "# Set hyperparameter\n",
        "param_grid = {\n",
        "    'n_estimators': [100, 200, 300],\n",
        "    'max_depth': [None, 10, 20, 30],\n",
        "    'min_samples_split': [2, 5, 10],\n",
        "    'min_samples_leaf': [1, 2, 4]\n",
        "}\n",
        "\n",
        "# RandomForest\n",
        "classifier_rf = RandomForestClassifier()\n",
        "\n",
        "# GridSearchCV\n",
        "grid_search = GridSearchCV(estimator = classifier_rf,\n",
        "                           param_grid = param_grid,\n",
        "                           cv = 5,\n",
        "                           scoring = 'roc_auc',\n",
        "                           verbose = 2,\n",
        "                           n_jobs = -1)\n",
        "\n",
        "# Train with best hyperparam\n",
        "model_v5_opt = grid_search.fit(X_train_tf, y_train)\n",
        "\n",
        "print('Best Hyperparam:', model_v5_opt.best_params_)\n",
        "\n",
        "# Forecast\n",
        "y_train_preds = model_v5_opt.predict_proba(X_train_tf)[:,1]\n",
        "y_valid_preds = model_v5_opt.predict_proba(X_valid_tf)[:,1]\n",
        "\n",
        "print('Random Forest Classifier with Optimization Hyperparameters and Cross-Validation:\\n')\n",
        "\n",
        "print('Train:\\n')\n",
        "rfc_train_auc, rfc_train_accuracy, rfc_train_recall, rfc_train_precision, rfc_train_specificity = print_report(y_train,\n",
        "                                                                                                                   y_train_preds,\n",
        "                                                                                                                   thresh)\n",
        "\n",
        "print('Valid:\\n')\n",
        "rfc_valid_auc, rfc_valid_accuracy, rfc_valid_recall, rfc_valid_precision, rfc_valid_specificity = print_report(y_valid,\n",
        "                                                                                                                   y_valid_preds,\n",
        "                                                                                                                   thresh)\n"
      ]
    },
    {
      "cell_type": "markdown",
      "metadata": {
        "id": "YgE4sh8F8RVh"
      },
      "source": [
        "### Saving the best model"
      ]
    },
    {
      "cell_type": "code",
      "execution_count": 23,
      "metadata": {
        "id": "fGtp5C0c8RVh"
      },
      "outputs": [],
      "source": [
        "pickle.dump(modelo_v5, open('/content/melhor_modelo.pkl', 'wb'), protocol = 4)"
      ]
    },
    {
      "cell_type": "code",
      "execution_count": 26,
      "metadata": {
        "id": "9a9O3o_b8RVh"
      },
      "outputs": [],
      "source": [
        "# Load model, columns and scaler\n",
        "best_model = pickle.load(open('/content/melhor_modelo.pkl','rb'))\n",
        "cols_input = pickle.load(open('/content/colunas_entrada.sav','rb'))\n",
        "scaler = pickle.load(open('/content/scaler.sav', 'rb'))\n",
        "\n",
        "# load data\n",
        "df_train = pd.read_csv('/content/dados_treino_final.csv')\n",
        "df_valid = pd.read_csv('/content/dados_valid.csv')\n",
        "df_test = pd.read_csv('/content/dados_teste.csv')\n",
        "\n",
        "# Matrix X and Y\n",
        "\n",
        "# X\n",
        "X_train = df_train[cols_input].values\n",
        "X_valid = df_valid[cols_input].values\n",
        "X_test = df_test[cols_input].values\n",
        "\n",
        "# Y\n",
        "y_train = df_train['LABEL_TARGET'].values\n",
        "y_valid = df_valid['LABEL_TARGET'].values\n",
        "y_test = df_test['LABEL_TARGET'].values\n",
        "\n",
        "# Scaler\n",
        "X_train_tf = scaler.transform(X_train)\n",
        "X_valid_tf = scaler.transform(X_valid)\n",
        "X_test_tf = scaler.transform(X_test)"
      ]
    },
    {
      "cell_type": "code",
      "execution_count": 27,
      "metadata": {
        "id": "Xtr3lmtB8RVh"
      },
      "outputs": [],
      "source": [
        "# Predict\n",
        "y_train_preds = best_model.predict_proba(X_train_tf)[:,1]\n",
        "y_valid_preds = best_model.predict_proba(X_valid_tf)[:,1]\n",
        "y_test_preds = best_model.predict_proba(X_test_tf)[:,1]"
      ]
    },
    {
      "cell_type": "code",
      "execution_count": 28,
      "metadata": {
        "colab": {
          "base_uri": "https://localhost:8080/"
        },
        "id": "_bolsAgA8RVi",
        "outputId": "c4b81dc6-c0f6-4067-b9b6-1e9275cb1bdd"
      },
      "outputs": [
        {
          "output_type": "stream",
          "name": "stdout",
          "text": [
            "\n",
            "Train:\n",
            "\n",
            "AUC:1.000\n",
            "Accuracy:1.000\n",
            "Recall:1.000\n",
            "Precision:1.000\n",
            "Specificity:1.000\n",
            " \n",
            "\n",
            "Valid:\n",
            "\n",
            "AUC:0.994\n",
            "Accuracy:0.958\n",
            "Recall:0.974\n",
            "Precision:0.841\n",
            "Specificity:0.952\n",
            " \n",
            "\n",
            "Test:\n",
            "\n",
            "AUC:0.994\n",
            "Accuracy:0.958\n",
            "Recall:0.979\n",
            "Precision:0.834\n",
            "Specificity:0.948\n",
            " \n"
          ]
        }
      ],
      "source": [
        "thresh = 0.5\n",
        "\n",
        "print('\\nTrain:\\n')\n",
        "train_auc, train_accuracy, train_recall, train_precision, train_specificity = print_report(y_train,\n",
        "                                                                                               y_train_preds,\n",
        "                                                                                               thresh)\n",
        "\n",
        "print('\\nValid:\\n')\n",
        "valid_auc, valid_accuracy, valid_recall, valid_precision, valid_specificity = print_report(y_valid,\n",
        "                                                                                               y_valid_preds,\n",
        "                                                                                               thresh)\n",
        "\n",
        "print('\\nTest:\\n')\n",
        "test_auc, test_accuracy, test_recall, test_precision, test_specificity = print_report(y_test,\n",
        "                                                                                          y_test_preds,\n",
        "                                                                                          thresh)"
      ]
    },
    {
      "cell_type": "code",
      "execution_count": 36,
      "metadata": {
        "colab": {
          "base_uri": "https://localhost:8080/",
          "height": 544
        },
        "id": "Zpfc8oBc8RVi",
        "outputId": "e0e0c9e7-909d-44e0-cd2b-02c214292372"
      },
      "outputs": [
        {
          "output_type": "display_data",
          "data": {
            "text/plain": [
              "<Figure size 1600x1000 with 1 Axes>"
            ],
            "image/png": "[encoded data removed]"
          },
          "metadata": {}
        }
      ],
      "source": [
        "# ROC Train\n",
        "fpr_train, tpr_train, thresholds_train = roc_curve(y_train, y_train_preds)\n",
        "auc_train = roc_auc_score(y_train, y_train_preds)\n",
        "\n",
        "# ROC Valid\n",
        "fpr_valid, tpr_valid, thresholds_valid = roc_curve(y_valid, y_valid_preds)\n",
        "auc_valid = roc_auc_score(y_valid, y_valid_preds)\n",
        "\n",
        "# ROC Test\n",
        "fpr_test, tpr_test, thresholds_test = roc_curve(y_test, y_test_preds)\n",
        "auc_test = roc_auc_score(y_test, y_test_preds)\n",
        "\n",
        "# Plot\n",
        "plt.figure(figsize=(16,10))\n",
        "plt.plot(fpr_train, tpr_train, 'r-', label = 'AUC em Treino: %.3f'%auc_train)\n",
        "plt.plot(fpr_valid, tpr_valid, 'b-', label = 'AUC em Validação: %.3f'%auc_valid)\n",
        "plt.plot(fpr_test, tpr_test, 'g-', label = 'AUC em Teste: %.3f'%auc_test)\n",
        "plt.plot([0,1],[0,1],'k--')\n",
        "plt.xlabel('False Positive')\n",
        "plt.ylabel('True Positive')\n",
        "plt.legend()\n",
        "plt.show()"
      ]
    },
    {
      "cell_type": "markdown",
      "metadata": {
        "id": "2SnwjuP-8RVi"
      },
      "source": [
        "## Deploy"
      ]
    },
    {
      "cell_type": "code",
      "execution_count": 39,
      "metadata": {
        "id": "xJ1k4qN88RVi"
      },
      "outputs": [],
      "source": [
        "# Load new client\n",
        "new_client = pd.read_csv('/content/novo_cliente.csv')"
      ]
    },
    {
      "cell_type": "code",
      "execution_count": 40,
      "metadata": {
        "colab": {
          "base_uri": "https://localhost:8080/",
          "height": 128
        },
        "id": "KtGLhgrv8RVi",
        "outputId": "d64cb0d0-3467-4953-f5f3-68a441d54b28"
      },
      "outputs": [
        {
          "output_type": "execute_result",
          "data": {
            "text/plain": [
              "   X1  X2  X3  X4  X5  X6  X7  X8  X9  X10  ...  X169  X170  X171  X172  X173  \\\n",
              "0  42  53  44  31  15  12   6   4   1   -4  ...   -41   -16     2    22    33   \n",
              "\n",
              "   X174  X175  X176  X177  X178  \n",
              "0    45    56    67    69    63  \n",
              "\n",
              "[1 rows x 178 columns]"
            ],
            "text/html": [
              "\n",
              "  <div id=\"df-69a47dae-9a7e-45d3-8693-d363d07d3a41\" class=\"colab-df-container\">\n",
              "    <div>\n",
              "<style scoped>\n",
              "    .dataframe tbody tr th:only-of-type {\n",
              "        vertical-align: middle;\n",
              "    }\n",
              "\n",
              "    .dataframe tbody tr th {\n",
              "        vertical-align: top;\n",
              "    }\n",
              "\n",
              "    .dataframe thead th {\n",
              "        text-align: right;\n",
              "    }\n",
              "</style>\n",
              "<table border=\"1\" class=\"dataframe\">\n",
              "  <thead>\n",
              "    <tr style=\"text-align: right;\">\n",
              "      <th></th>\n",
              "      <th>X1</th>\n",
              "      <th>X2</th>\n",
              "      <th>X3</th>\n",
              "      <th>X4</th>\n",
              "      <th>X5</th>\n",
              "      <th>X6</th>\n",
              "      <th>X7</th>\n",
              "      <th>X8</th>\n",
              "      <th>X9</th>\n",
              "      <th>X10</th>\n",
              "      <th>...</th>\n",
              "      <th>X169</th>\n",
              "      <th>X170</th>\n",
              "      <th>X171</th>\n",
              "      <th>X172</th>\n",
              "      <th>X173</th>\n",
              "      <th>X174</th>\n",
              "      <th>X175</th>\n",
              "      <th>X176</th>\n",
              "      <th>X177</th>\n",
              "      <th>X178</th>\n",
              "    </tr>\n",
              "  </thead>\n",
              "  <tbody>\n",
              "    <tr>\n",
              "      <th>0</th>\n",
              "      <td>42</td>\n",
              "      <td>53</td>\n",
              "      <td>44</td>\n",
              "      <td>31</td>\n",
              "      <td>15</td>\n",
              "      <td>12</td>\n",
              "      <td>6</td>\n",
              "      <td>4</td>\n",
              "      <td>1</td>\n",
              "      <td>-4</td>\n",
              "      <td>...</td>\n",
              "      <td>-41</td>\n",
              "      <td>-16</td>\n",
              "      <td>2</td>\n",
              "      <td>22</td>\n",
              "      <td>33</td>\n",
              "      <td>45</td>\n",
              "      <td>56</td>\n",
              "      <td>67</td>\n",
              "      <td>69</td>\n",
              "      <td>63</td>\n",
              "    </tr>\n",
              "  </tbody>\n",
              "</table>\n",
              "<p>1 rows × 178 columns</p>\n",
              "</div>\n",
              "    <div class=\"colab-df-buttons\">\n",
              "\n",
              "  <div class=\"colab-df-container\">\n",
              "    <button class=\"colab-df-convert\" onclick=\"convertToInteractive('df-69a47dae-9a7e-45d3-8693-d363d07d3a41')\"\n",
              "            title=\"Convert this dataframe to an interactive table.\"\n",
              "            style=\"display:none;\">\n",
              "\n",
              "  <svg xmlns=\"http://www.w3.org/2000/svg\" height=\"24px\" viewBox=\"0 -960 960 960\">\n",
              "    <path d=\"M120-120v-720h720v720H120Zm60-500h600v-160H180v160Zm220 220h160v-160H400v160Zm0 220h160v-160H400v160ZM180-400h160v-160H180v160Zm440 0h160v-160H620v160ZM180-180h160v-160H180v160Zm440 0h160v-160H620v160Z\"/>\n",
              "  </svg>\n",
              "    </button>\n",
              "\n",
              "  <style>\n",
              "    .colab-df-container {\n",
              "      display:flex;\n",
              "      gap: 12px;\n",
              "    }\n",
              "\n",
              "    .colab-df-convert {\n",
              "      background-color: #E8F0FE;\n",
              "      border: none;\n",
              "      border-radius: 50%;\n",
              "      cursor: pointer;\n",
              "      display: none;\n",
              "      fill: #1967D2;\n",
              "      height: 32px;\n",
              "      padding: 0 0 0 0;\n",
              "      width: 32px;\n",
              "    }\n",
              "\n",
              "    .colab-df-convert:hover {\n",
              "      background-color: #E2EBFA;\n",
              "      box-shadow: 0px 1px 2px rgba(60, 64, 67, 0.3), 0px 1px 3px 1px rgba(60, 64, 67, 0.15);\n",
              "      fill: #174EA6;\n",
              "    }\n",
              "\n",
              "    .colab-df-buttons div {\n",
              "      margin-bottom: 4px;\n",
              "    }\n",
              "\n",
              "    [theme=dark] .colab-df-convert {\n",
              "      background-color: #3B4455;\n",
              "      fill: #D2E3FC;\n",
              "    }\n",
              "\n",
              "    [theme=dark] .colab-df-convert:hover {\n",
              "      background-color: #434B5C;\n",
              "      box-shadow: 0px 1px 3px 1px rgba(0, 0, 0, 0.15);\n",
              "      filter: drop-shadow(0px 1px 2px rgba(0, 0, 0, 0.3));\n",
              "      fill: #FFFFFF;\n",
              "    }\n",
              "  </style>\n",
              "\n",
              "    <script>\n",
              "      const buttonEl =\n",
              "        document.querySelector('#df-69a47dae-9a7e-45d3-8693-d363d07d3a41 button.colab-df-convert');\n",
              "      buttonEl.style.display =\n",
              "        google.colab.kernel.accessAllowed ? 'block' : 'none';\n",
              "\n",
              "      async function convertToInteractive(key) {\n",
              "        const element = document.querySelector('#df-69a47dae-9a7e-45d3-8693-d363d07d3a41');\n",
              "        const dataTable =\n",
              "          await google.colab.kernel.invokeFunction('convertToInteractive',\n",
              "                                                    [key], {});\n",
              "        if (!dataTable) return;\n",
              "\n",
              "        const docLinkHtml = 'Like what you see? Visit the ' +\n",
              "          '<a target=\"_blank\" href=https://colab.research.google.com/notebooks/data_table.ipynb>data table notebook</a>'\n",
              "          + ' to learn more about interactive tables.';\n",
              "        element.innerHTML = '';\n",
              "        dataTable['output_type'] = 'display_data';\n",
              "        await google.colab.output.renderOutput(dataTable, element);\n",
              "        const docLink = document.createElement('div');\n",
              "        docLink.innerHTML = docLinkHtml;\n",
              "        element.appendChild(docLink);\n",
              "      }\n",
              "    </script>\n",
              "  </div>\n",
              "\n",
              "\n",
              "    </div>\n",
              "  </div>\n"
            ],
            "application/vnd.google.colaboratory.intrinsic+json": {
              "type": "dataframe",
              "variable_name": "new_client"
            }
          },
          "metadata": {},
          "execution_count": 40
        }
      ],
      "source": [
        "new_client.head()"
      ]
    },
    {
      "cell_type": "code",
      "execution_count": 41,
      "metadata": {
        "colab": {
          "base_uri": "https://localhost:8080/"
        },
        "id": "KGUuaEUK8RVi",
        "outputId": "a7c565e2-bf15-4740-9569-e0636b9d7a7a"
      },
      "outputs": [
        {
          "output_type": "stream",
          "name": "stderr",
          "text": [
            "/usr/local/lib/python3.11/dist-packages/sklearn/utils/validation.py:2732: UserWarning: X has feature names, but StandardScaler was fitted without feature names\n",
            "  warnings.warn(\n"
          ]
        }
      ],
      "source": [
        "new_client_scaled = scaler.transform(novo_cliente)"
      ]
    },
    {
      "cell_type": "code",
      "execution_count": 42,
      "metadata": {
        "colab": {
          "base_uri": "https://localhost:8080/"
        },
        "id": "bflzdVAr8RVi",
        "outputId": "0c4e8835-a9f1-41ac-8b77-dde8f6e16c49"
      },
      "outputs": [
        {
          "output_type": "execute_result",
          "data": {
            "text/plain": [
              "array([[ 0.23430103,  0.26330964,  0.21327887,  0.14547427,  0.06433421,\n",
              "         0.04162138,  0.01245067,  0.00948678,  0.0004072 , -0.02089583,\n",
              "        -0.05982225, -0.08823802, -0.09422636, -0.08206851, -0.05688321,\n",
              "        -0.04513061, -0.04888646, -0.05884649, -0.03954335, -0.0268048 ,\n",
              "        -0.03954517, -0.01361066,  0.0141796 ,  0.02964142,  0.02434803,\n",
              "         0.02553403,  0.05046526,  0.07622867,  0.10625282,  0.10435503,\n",
              "         0.08770101,  0.03628219,  0.02035452,  0.00290372,  0.02560331,\n",
              "         0.04788545,  0.0803539 ,  0.11439743,  0.1269662 ,  0.15967329,\n",
              "         0.17008419,  0.18494295,  0.17441442,  0.19293274,  0.19279889,\n",
              "         0.18807764,  0.17420266,  0.13057865,  0.07347198,  0.02760618,\n",
              "         0.01334455, -0.04209115, -0.09817825, -0.14470692, -0.17500193,\n",
              "        -0.19419077, -0.19392033, -0.18826305, -0.17409285, -0.13599362,\n",
              "        -0.09777884, -0.06104059, -0.02889629, -0.05156025, -0.04717145,\n",
              "        -0.04596022, -0.03446032,  0.01195965,  0.03893321,  0.0373783 ,\n",
              "         0.04897371,  0.06277512,  0.04151786,  0.03451541,  0.03303438,\n",
              "         0.04821578,  0.04004553,  0.03006032,  0.0161595 , -0.00241662,\n",
              "         0.00900281,  0.0302865 ,  0.0464644 ,  0.01280915, -0.01307601,\n",
              "        -0.07096971, -0.13670029, -0.20694895, -0.2661598 , -0.28711199,\n",
              "        -0.3258422 , -0.3282124 , -0.34373589, -0.33060182, -0.31391853,\n",
              "        -0.24877619, -0.21758679, -0.19865697, -0.19442219, -0.20640034,\n",
              "        -0.23026813, -0.24464804, -0.23612009, -0.19930386, -0.16999071,\n",
              "        -0.11359187, -0.06701702, -0.00689455,  0.07487416,  0.14273801,\n",
              "         0.18102447,  0.21192595,  0.22468387,  0.19451635,  0.13239492,\n",
              "         0.06419321,  0.01364013, -0.04283618, -0.09554414, -0.12778041,\n",
              "        -0.15825563, -0.16683742, -0.14647313, -0.13592513, -0.12082832,\n",
              "        -0.10651906, -0.09440598, -0.07773181, -0.08372169, -0.01298693,\n",
              "         0.0404926 ,  0.1156674 ,  0.16052478,  0.19914031,  0.19533026,\n",
              "         0.16293932,  0.13569178,  0.11222415,  0.10746353,  0.07659351,\n",
              "         0.06062224,  0.05279814,  0.03523791,  0.03867343,  0.03949179,\n",
              "         0.02724695,  0.04555068,  0.08265493,  0.11888091,  0.12544782,\n",
              "         0.15569513,  0.14403063,  0.12635596,  0.08979671,  0.05235513,\n",
              "         0.01632025, -0.00680503, -0.04425756, -0.0873799 , -0.15100895,\n",
              "        -0.17225842, -0.17389066, -0.21216431, -0.23642102, -0.27989873,\n",
              "        -0.28464329, -0.27150487, -0.21309039, -0.14158598, -0.03804823,\n",
              "         0.0491009 ,  0.14330831,  0.19777904,  0.24797271,  0.29513364,\n",
              "         0.34228122,  0.35139939,  0.32405213]])"
            ]
          },
          "metadata": {},
          "execution_count": 42
        }
      ],
      "source": [
        "new_client_scaled"
      ]
    },
    {
      "cell_type": "code",
      "execution_count": 43,
      "metadata": {
        "colab": {
          "base_uri": "https://localhost:8080/"
        },
        "id": "KH17uc258RVj",
        "outputId": "42c32df5-e1cb-4f77-db7c-d048bfb55e23"
      },
      "outputs": [
        {
          "output_type": "execute_result",
          "data": {
            "text/plain": [
              "array([[1., 0.]])"
            ]
          },
          "metadata": {},
          "execution_count": 43
        }
      ],
      "source": [
        "best_model.predict_proba(new_client_scaled)"
      ]
    },
    {
      "cell_type": "code",
      "execution_count": 44,
      "metadata": {
        "colab": {
          "base_uri": "https://localhost:8080/"
        },
        "id": "j3dNTPCn8RVj",
        "outputId": "030db852-f9d6-43d4-c1a8-8cc7480fa7a7"
      },
      "outputs": [
        {
          "output_type": "execute_result",
          "data": {
            "text/plain": [
              "array([0])"
            ]
          },
          "metadata": {},
          "execution_count": 44
        }
      ],
      "source": [
        "best_model.predict(novo_cliente_scaled)"
      ]
    },
    {
      "cell_type": "markdown",
      "metadata": {
        "id": "CqB-WjTT8RVj"
      },
      "source": [
        "Model's prediction, this customer will not renew the insurance."
      ]
    }
  ],
  "metadata": {
    "kernelspec": {
      "display_name": "Python 3",
      "name": "python3"
    },
    "language_info": {
      "codemirror_mode": {
        "name": "ipython",
        "version": 3
      },
      "file_extension": ".py",
      "mimetype": "text/x-python",
      "name": "python",
      "nbconvert_exporter": "python",
      "pygments_lexer": "ipython3",
      "version": "3.13.5"
    },
    "colab": {
      "provenance": [],
      "gpuType": "V28"
    },
    "accelerator": "TPU"
  },
  "nbformat": 4,
  "nbformat_minor": 0
}